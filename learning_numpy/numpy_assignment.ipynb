{
 "cells": [
  {
   "cell_type": "markdown",
   "id": "88d4b9a6-43f3-4c3a-8258-8b7952d73fe2",
   "metadata": {},
   "source": [
    "Task 1: Array Creation and Data Types\n",
    "\n",
    "*Objective*: Practice initializing arrays and inspecting their properties.\n",
    "\n",
    "1. Create the following arrays:\n",
    "   - A 3x3 identity matrix.\n",
    "   - A 1D array of 20 linearly spaced values between 5 and 50.\n",
    "   - A 5x5 array filled with random floats from a normal distribution (mean = 0, std = 1).\n",
    "2. Print the dtype, shape, and ndim of each array.\n",
    "\n",
    "3. Convert the 5x5 array to integer type using .astype() and explain any change in values."
   ]
  },
  {
   "cell_type": "code",
   "execution_count": 36,
   "id": "e4747423-0123-4cb9-9f8e-3c4d9d36a0cf",
   "metadata": {
    "collapsed": true,
    "jupyter": {
     "outputs_hidden": true
    },
    "scrolled": true
   },
   "outputs": [
    {
     "name": "stdout",
     "output_type": "stream",
     "text": [
      "[[1. 0. 0.]\n",
      " [0. 1. 0.]\n",
      " [0. 0. 1.]]\n",
      "identity's shape is(3, 3), its type is float64 and its dimensions are 2\n",
      "[ 5.    7.25  9.5  11.75 14.   16.25 18.5  20.75 23.   25.25 27.5  29.75\n",
      " 32.   34.25 36.5  38.75 41.   43.25 45.5  47.75]\n",
      "array_1D's shape is(20,), its type is float64 and its dimensions are 1\n",
      "[[-1.13330086  1.22392777  0.13635237 -1.02266828 -0.16594571]\n",
      " [ 1.79410494 -0.06504024 -0.33174204 -0.25030622  1.94868787]\n",
      " [ 0.19514566 -0.86448734  0.88594428 -1.4797066   0.18347255]\n",
      " [ 0.04681809 -0.09125535  1.11331286 -0.0223134   0.7134927 ]\n",
      " [-0.90362803 -0.86871347 -0.63400197 -0.93979482 -0.39433011]]\n",
      "[[-1  1  0 -1  0]\n",
      " [ 1  0  0  0  1]\n",
      " [ 0  0  0 -1  0]\n",
      " [ 0  0  1  0  0]\n",
      " [ 0  0  0  0  0]]\n",
      "samples 's shape is(5, 5), its type is float64 and its dimensions are 2\n"
     ]
    }
   ],
   "source": [
    "import numpy as np\n",
    "identity = np.identity(3)\n",
    "print(identity)\n",
    "print(f\"identity's shape is{identity.shape}, its type is {identity.dtype} and its dimensions are {identity.ndim}\")\n",
    "array_1D = np.arange(5,50,2.25)\n",
    "print(array_1D)\n",
    "print(f\"array_1D's shape is{array_1D.shape}, its type is {array_1D.dtype} and its dimensions are {array_1D.ndim}\")\n",
    "samples = np.random.standard_normal(size=(5,5))\n",
    "print(samples)\n",
    "int_array = samples.astype(np.int64)\n",
    "print(int_array)\n",
    "print(f\"samples 's shape is{samples .shape}, its type is {samples .dtype} and its dimensions are {samples .ndim}\")"
   ]
  },
  {
   "cell_type": "markdown",
   "id": "fccfd288-b250-49f2-90e3-78ba4cd79e83",
   "metadata": {},
   "source": [
    " Task 2: Vectorization and Arithmetic Operations\n",
    "\n",
    "*Objective*: Apply element-wise operations and use vectorized computation.\n",
    "\n",
    "1. Create an array a of 10 integers from 1 to 10.\n",
    "\n",
    "2. Create a new array b where each element is:\n",
    "   - a_i * 2 if a_i is even\n",
    "   - a_i + 5 if a_i is odd\n",
    "\n",
    "   Use np.where() to implement this logic.\n",
    "\n",
    "3. Compute and print:\n",
    "   - Element-wise multiplication of a and b\n",
    "   - Boolean mask for values in b greater than 15\n",
    "   - The sum and standard deviation of array b"
   ]
  },
  {
   "cell_type": "code",
   "execution_count": 35,
   "id": "9aef9ad9-113b-45a9-8e81-72f1360dd3bd",
   "metadata": {
    "scrolled": true
   },
   "outputs": [
    {
     "name": "stdout",
     "output_type": "stream",
     "text": [
      "[ 1  2  3  4  5  6  7  8  9 10]\n",
      "[ 6  4  8  8 10 12 12 16 14 20]\n",
      "Element-wise multiplication of a and b is [  6   8  24  32  50  72  84 128 126 200]\n",
      "sum of array b is 110\n",
      "standard deviation of array b is 4.58257569495584\n"
     ]
    }
   ],
   "source": [
    "import numpy as np\n",
    "a = np.arange(1,11,1)\n",
    "print(a)\n",
    "b = np.where(a%2 == 0, a*2, a+5)\n",
    "print(b)\n",
    "multiply_array = a * b\n",
    "print(f\"Element-wise multiplication of a and b is {multiply_array}\")\n",
    "b > 15\n",
    "sum = np.sum(b)\n",
    "print(f\"Sum of array b is {sum}\")\n",
    "deviation = np.std(b)\n",
    "print(f\"Standard deviation of array b is {deviation}\")\n"
   ]
  },
  {
   "cell_type": "markdown",
   "id": "f741a6c4-8fd9-46f9-a30f-456676e03ae6",
   "metadata": {},
   "source": [
    "Task 3: Indexing and Slicing\n",
    "\n",
    "*Objective*: Master subsetting arrays with slice notation and boolean masks.\n",
    "\n",
    "Given a 6x6 matrix of integers from 1 to 36:\n",
    "\n",
    "1. Reshape it from a 1D range to 6x6.\n",
    "\n",
    "2. Extract:\n",
    "   - The 3rd row.\n",
    "   - The last column.\n",
    "   - All elements greater than 20 (use boolean indexing).\n",
    "   - The submatrix formed by rows 2 to 4 and columns 2 to 5.\n",
    "\n",
    "3. Modify the matrix: Set all even numbers to 0 using boolean indexing."
   ]
  },
  {
   "cell_type": "code",
   "execution_count": 54,
   "id": "9420ada7-79a4-4e13-9e67-ae11071e3f9d",
   "metadata": {
    "collapsed": true,
    "jupyter": {
     "outputs_hidden": true
    }
   },
   "outputs": [
    {
     "name": "stdout",
     "output_type": "stream",
     "text": [
      "[[ 1  2  3  4  5  6]\n",
      " [ 7  8  9 10 11 12]\n",
      " [13 14 15 16 17 18]\n",
      " [19 20 21 22 23 24]\n",
      " [25 26 27 28 29 30]\n",
      " [31 32 33 34 35 36]]\n",
      "[[13 14 15 16 17 18]]\n",
      "[[ 6]\n",
      " [12]\n",
      " [18]\n",
      " [24]\n",
      " [30]\n",
      " [36]]\n",
      "[[15 16 17]\n",
      " [21 22 23]]\n"
     ]
    },
    {
     "data": {
      "text/plain": [
       "array([[ 1,  0,  3,  0,  5,  0],\n",
       "       [ 7,  0,  9,  0, 11,  0],\n",
       "       [13,  0, 15,  0, 17,  0],\n",
       "       [19,  0, 21,  0, 23,  0],\n",
       "       [25,  0, 27,  0, 29,  0],\n",
       "       [31,  0, 33,  0, 35,  0]])"
      ]
     },
     "execution_count": 54,
     "metadata": {},
     "output_type": "execute_result"
    }
   ],
   "source": [
    "import numpy as np\n",
    "array = np.arange(1,37).reshape(6,6)\n",
    "print(array)\n",
    "print(array[2:3,:])\n",
    "print(array[:,5:])\n",
    "array[array>20]\n",
    "print(array[2:4,2:5])\n",
    "array[array%2==0 ] = 0\n",
    "array"
   ]
  },
  {
   "cell_type": "markdown",
   "id": "e7e7ed56-512d-4ce6-8a03-48874ce5c6f4",
   "metadata": {},
   "source": [
    "Task 4: Fancy Indexing and Transposition\n",
    "\n",
    "*Objective*: Use index arrays for advanced data selection and understand axis operations.\n",
    "\n",
    "1. Create a 4x4 array of random integers from 10 to 99.\n",
    "\n",
    "2. Using fancy indexing, extract the diagonal elements using index arrays.\n",
    "\n",
    "3. Transpose the matrix and print both original and transposed matrices.\n",
    "\n",
    "4. Use swapaxes() to switch axes of a 3D array of shape (2, 3, 4) and explain the result."
   ]
  },
  {
   "cell_type": "code",
   "execution_count": 88,
   "id": "5e91d992-5d04-497e-a2c4-42483b102098",
   "metadata": {
    "collapsed": true,
    "jupyter": {
     "outputs_hidden": true
    }
   },
   "outputs": [
    {
     "name": "stdout",
     "output_type": "stream",
     "text": [
      "[[97 25 22 80]\n",
      " [96 92 38 31]\n",
      " [97 19 57 79]\n",
      " [43 33 20 38]]\n",
      "[[97 96 97 43]\n",
      " [25 92 19 33]\n",
      " [22 38 57 20]\n",
      " [80 31 79 38]]\n"
     ]
    },
    {
     "data": {
      "text/plain": [
       "array([[[80, 56],\n",
       "        [59, 14],\n",
       "        [89, 87]],\n",
       "\n",
       "       [[95, 70],\n",
       "        [49, 75],\n",
       "        [86, 25]],\n",
       "\n",
       "       [[95, 95],\n",
       "        [32, 75],\n",
       "        [67, 80]],\n",
       "\n",
       "       [[33, 68],\n",
       "        [64, 29],\n",
       "        [86, 87]]])"
      ]
     },
     "execution_count": 88,
     "metadata": {},
     "output_type": "execute_result"
    }
   ],
   "source": [
    "import numpy as np\n",
    "# creating a custom generator object to craete random numbers\n",
    "rng = np.random.default_rng(seed =1234)\n",
    "array = rng.integers(10,99,size=(4,4))\n",
    "#print(array)\n",
    "diagonal_elements = array[[0,1,2,3],[0,1,2,3]]\n",
    "print(array.T)\n",
    "print(array)\n",
    "array2 = rng.integers(10,99,size=(2,3,4))\n",
    "# print(array2)\n",
    "array2.swapaxes(0,1)\n",
    "array2.swapaxes(1,2)\n",
    "array2.swapaxes(2,0)\n",
    "# Here swapaxes takes the pair of axes numbers and rearrange the data around the given axes"
   ]
  },
  {
   "cell_type": "markdown",
   "id": "65a536bb-ffdf-4e9d-9ca7-e77fe32659ba",
   "metadata": {},
   "source": [
    " Task 5: Universal Functions and Broadcasting\n",
    "\n",
    "*Objective*: Apply NumPy ufuncs and broadcasting logic.\n",
    "\n",
    "1. Create an array of 10 values drawn from a uniform distribution between 0 and 1.\n",
    "\n",
    "2. Compute:\n",
    "   - The square root using np.sqrt\n",
    "   - The exponential using np.exp\n",
    "   - Element-wise max of this array and a constant 0.5 using np.maximum\n",
    "\n",
    "3. Create a 3x5 matrix and subtract the column-wise mean using broadcasting."
   ]
  },
  {
   "cell_type": "code",
   "execution_count": 112,
   "id": "5c506e86-ea4c-4c59-a8d5-ff42abf47eb9",
   "metadata": {
    "collapsed": true,
    "jupyter": {
     "outputs_hidden": true
    }
   },
   "outputs": [
    {
     "name": "stdout",
     "output_type": "stream",
     "text": [
      "Square root array is [3.12521962 1.94986085 3.03849672 1.61769102 1.7863288  1.0866979\n",
      " 1.55488358 1.78475188 3.10496255 1.62372967]\n",
      "Exponential array is [1.74483029e+04 4.47887661e+01 1.02236847e+04 1.36935407e+01\n",
      " 2.43120128e+01 3.25734462e+00 1.12196077e+01 2.41754895e+01\n",
      " 1.53795264e+04 1.39642158e+01]\n",
      "Element wise max of an array is [9.76699767 3.80195735 9.23246234 2.61692424 3.19097058 1.18091233\n",
      " 2.41766293 3.18533929 9.64079245 2.63649804]\n",
      "Subtracted array is[[-0.28863535 -0.48186975  1.54837391 -0.55875435  0.74146701]\n",
      " [ 1.35805995  0.40715525 -1.0451956  -0.55939531  0.47848909]\n",
      " [-1.0694246   0.0747145  -0.50317831  1.11814966 -1.2199561 ]]\n"
     ]
    }
   ],
   "source": [
    "import numpy as np\n",
    "rng = np.random.default_rng(seed =1234)\n",
    "array = rng.uniform(low = 0, high = 10,size=10)\n",
    "#print(array)\n",
    "print(f\"Square root array is {np.sqrt(array)}\")\n",
    "print(f\"Exponential array is {np.exp(array)}\")\n",
    "print(f\"Element wise max of an array is {np.maximum(array,0.5)}\")\n",
    "array2 = rng.standard_normal(size=(3,5))\n",
    "#print(array2)\n",
    "columnwise_mean = array2.mean(axis = 0)\n",
    "#print(columnwise_mean)\n",
    "subtracted_array = np.subtract(columnwise_mean,array2)\n",
    "print(f\"Subtracted array is{subtracted_array}\")\n"
   ]
  },
  {
   "cell_type": "markdown",
   "id": "a4b27606-4532-4111-b54f-53b5f7046c27",
   "metadata": {
    "jupyter": {
     "source_hidden": true
    }
   },
   "source": [
    "Task 6: Random Sampling and Simulation\n",
    "\n",
    "*Objective*: Use np.random for simulations.\n",
    "\n",
    "1. Simulate 1000 random walks each of 100 steps:\n",
    "   - Each step is +1 or -1 with equal probability.\n",
    "   - Represent all walks in a 2D array: shape (1000, 100).\n",
    "\n",
    "2. Compute:\n",
    "   - Final position of each walk.\n",
    "   - Number of walks that ended beyond +10 or below -10.\n",
    "\n",
    "3. Visualize a few sample walks (optional using matplotlib)."
   ]
  },
  {
   "cell_type": "code",
   "execution_count": 127,
   "id": "4aaa8975-832c-4a68-baef-2148720bba0d",
   "metadata": {
    "collapsed": true,
    "jupyter": {
     "outputs_hidden": true
    }
   },
   "outputs": [
    {
     "name": "stdout",
     "output_type": "stream",
     "text": [
      "[[  1   2   3 ...   8   9   8]\n",
      " [  1   2   1 ...  -4  -5  -6]\n",
      " [  1   0  -1 ...   0   1   0]\n",
      " ...\n",
      " [ -1   0  -1 ... -16 -17 -16]\n",
      " [  1   0   1 ...  -4  -5  -6]\n",
      " [ -1   0  -1 ...   6   7   8]]\n"
     ]
    },
    {
     "data": {
      "text/plain": [
       "555"
      ]
     },
     "execution_count": 127,
     "metadata": {},
     "output_type": "execute_result"
    }
   ],
   "source": [
    "import numpy as np\n",
    "rng = np.random.default_rng(seed = 1234)\n",
    "nwalks =1000\n",
    "nsteps = 100\n",
    "draws = rng.integers(0,2,size =(nwalks,nsteps))\n",
    "steps = np.where(draws>0, 1,-1)\n",
    "walks = steps.cumsum(axis = 1)\n",
    "print(walks)\n",
    "final_position = steps.sum(axis = 1)\n",
    "beyond_10 = (np.abs(walks) >10).any(axis =1)\n",
    "beyond_10.sum()\n"
   ]
  },
  {
   "cell_type": "markdown",
   "id": "94debe5b-eaaf-4429-8e3d-72c8a1f8e54f",
   "metadata": {},
   "source": [
    "Task 7: Matrix Algebra\n",
    "\n",
    "*Objective*: Use np.dot, @, and np.linalg methods.\n",
    "\n",
    "1. Generate two 3x3 matrices A and B with random integers between 1 and 10.\n",
    "\n",
    "2. Compute:\n",
    "   - The matrix product using np.dot() and the @ operator.\n",
    "   - The inverse of A using np.linalg.inv() (handle error if not invertible).\n",
    "   - The determinant of A.\n",
    "\n",
    "3. Solve the linear system Ax = b where b = [1, 2, 3]."
   ]
  },
  {
   "cell_type": "code",
   "execution_count": 145,
   "id": "146df018-c722-497f-8f01-5574fe3107ab",
   "metadata": {
    "collapsed": true,
    "jupyter": {
     "outputs_hidden": true
    }
   },
   "outputs": [
    {
     "name": "stdout",
     "output_type": "stream",
     "text": [
      "[[9 9 9]\n",
      " [4 2 9]\n",
      " [1 3 2]]\n",
      "[[ 0.21296296 -0.08333333 -0.58333333]\n",
      " [-0.00925926 -0.08333333  0.41666667]\n",
      " [-0.09259259  0.16666667  0.16666667]]\n",
      "-108.00000000000003\n",
      "[-1.7037037   1.07407407  0.74074074]\n",
      "[[9 9 9]\n",
      " [4 2 9]\n",
      " [1 3 2]]\n"
     ]
    }
   ],
   "source": [
    "import numpy as np\n",
    "from numpy.linalg import inv ,det ,solve\n",
    "rng = np.random.default_rng(seed = 1234)\n",
    "A = rng.integers(1,10,size=(3,3))\n",
    "print(A)\n",
    "B = rng.integers(1,10,size=(3,3))\n",
    "dot_product = np.dot(A,B)\n",
    "operator_product = A @ B\n",
    "inverse_matrix = inv(A)\n",
    "print(inverse_matrix )\n",
    "determinant_matrix = det(A)\n",
    "print(determinant_matrix)\n",
    "x = solve(A ,b = [1,2,3])\n",
    "print(x)\n",
    "\n"
   ]
  },
  {
   "cell_type": "markdown",
   "id": "da7b8f2d-7ce7-4cfe-a843-4c52ad631b4f",
   "metadata": {},
   "source": [
    "Task 8: File I/O with NumPy\n",
    "\n",
    "*Objective*: Save and load arrays from disk.\n",
    "\n",
    "1. Save array a and array b from Task 2 into a .npz file.\n",
    "\n",
    "2. Load the .npz file and verify the contents."
   ]
  },
  {
   "cell_type": "code",
   "execution_count": 151,
   "id": "ca6465c9-aa91-4348-b939-1292884f8edd",
   "metadata": {},
   "outputs": [
    {
     "data": {
      "text/plain": [
       "array([ 6,  4,  8,  8, 10, 12, 12, 16, 14, 20])"
      ]
     },
     "execution_count": 151,
     "metadata": {},
     "output_type": "execute_result"
    }
   ],
   "source": [
    "import numpy as np\n",
    "np.savez(\"a.npz\", a = np.arange(1,11,1), b = np.where(a%2 == 0, a*2, a+5))\n",
    "arch = np.load(\"a.npz\")\n",
    "arch[\"b\"]\n"
   ]
  },
  {
   "cell_type": "markdown",
   "id": "57fa094b-118e-48df-9772-9629ddb3f47b",
   "metadata": {},
   "source": [
    "Bonus Task: Memory Efficiency\n",
    "\n",
    "*Objective*: Understand view vs. copy in slicing.\n",
    "\n",
    "1. Create a 1D array of numbers from 0 to 99.\n",
    "\n",
    "2. Slice out elements from index 20 to 40. Modify this slice and check if the original array reflects the change.\n",
    "\n",
    "3. Use .copy() to create an independent array and repeat the test."
   ]
  },
  {
   "cell_type": "code",
   "execution_count": 155,
   "id": "8b5db981-bfbc-4168-983a-4a283ff3714e",
   "metadata": {},
   "outputs": [
    {
     "name": "stdout",
     "output_type": "stream",
     "text": [
      "[ 0  1  2  3  4  5  6  7  8  9 10 11 12 13 14 15 16 17 18 19 20 21 22 23\n",
      " 24 25 26 27 28 29 30 31 32 33 34 35 36 37 38 39 40 41 42 43 44 45 46 47\n",
      " 48 49 50 51 52 53 54 55 56 57 58 59 60 61 62 63 64 65 66 67 68 69 70 71\n",
      " 72 73 74 75 76 77 78 79 80 81 82 83 84 85 86 87 88 89 90 91 92 93 94 95\n",
      " 96 97 98]\n",
      "[44  1]\n"
     ]
    }
   ],
   "source": [
    "import numpy as np\n",
    "array = np.arange(0,99)\n",
    "array[20:40]\n",
    "print(array)\n",
    "array2 = array.copy()\n",
    "array2[0] = 44\n",
    "print(array2[0:2])\n",
    "\n",
    "\n",
    "\n"
   ]
  },
  {
   "cell_type": "code",
   "execution_count": null,
   "id": "a3c87991-f461-4bd0-897b-3ba538dde57a",
   "metadata": {},
   "outputs": [],
   "source": []
  }
 ],
 "metadata": {
  "kernelspec": {
   "display_name": "ds_env",
   "language": "python",
   "name": "ds_env"
  },
  "language_info": {
   "codemirror_mode": {
    "name": "ipython",
    "version": 3
   },
   "file_extension": ".py",
   "mimetype": "text/x-python",
   "name": "python",
   "nbconvert_exporter": "python",
   "pygments_lexer": "ipython3",
   "version": "3.8.10"
  }
 },
 "nbformat": 4,
 "nbformat_minor": 5
}
