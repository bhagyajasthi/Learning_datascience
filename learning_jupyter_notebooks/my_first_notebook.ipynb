{
 "cells": [
  {
   "cell_type": "code",
   "execution_count": 1,
   "id": "b952ac7a-aae5-4e03-a463-86ea529ebd29",
   "metadata": {},
   "outputs": [
    {
     "name": "stdout",
     "output_type": "stream",
     "text": [
      "Hello world\n"
     ]
    }
   ],
   "source": [
    "# This is a code block \n",
    "print(\"Hello world\")\n",
    "# press shift+enter to runt this block\n"
   ]
  },
  {
   "cell_type": "markdown",
   "id": "743f88ea-fd8e-4ca5-9fcd-7c800ebab55c",
   "metadata": {},
   "source": [
    "# this is a mark down block\n",
    "a block can be converted from code block to markdown block by \n",
    "- select the block\n",
    "- press m"
   ]
  },
  {
   "cell_type": "code",
   "execution_count": null,
   "id": "c14fd406-b8b0-42ec-af81-1f2d562f99c9",
   "metadata": {},
   "outputs": [],
   "source": []
  }
 ],
 "metadata": {
  "kernelspec": {
   "display_name": "ds_env",
   "language": "python",
   "name": "ds_env"
  },
  "language_info": {
   "codemirror_mode": {
    "name": "ipython",
    "version": 3
   },
   "file_extension": ".py",
   "mimetype": "text/x-python",
   "name": "python",
   "nbconvert_exporter": "python",
   "pygments_lexer": "ipython3",
   "version": "3.8.10"
  }
 },
 "nbformat": 4,
 "nbformat_minor": 5
}
