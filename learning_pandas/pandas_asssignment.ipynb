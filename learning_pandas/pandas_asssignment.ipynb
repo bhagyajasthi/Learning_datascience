{
 "cells": [
  {
   "cell_type": "markdown",
   "id": "b58f6b7f-6334-4bfa-bd43-a6fd74809c54",
   "metadata": {},
   "source": [
    "# Task 1: Series and DataFrame Basics"
   ]
  },
  {
   "cell_type": "markdown",
   "id": "b6edbc01-3adc-4056-9707-edd108a2c160",
   "metadata": {},
   "source": [
    "### 1.Series Creation:\n",
    "- #### Create a Series containing five stock prices with custom index labels for company tickers (e.g., 'AAPL', 'GOOG', etc.).\n",
    "- #### Print its index, values, and dtype.\n"
   ]
  },
  {
   "cell_type": "code",
   "execution_count": 3,
   "id": "02886279-21f8-4c5b-b434-09c3057959b6",
   "metadata": {},
   "outputs": [
    {
     "name": "stdout",
     "output_type": "stream",
     "text": [
      "Index(['AAPL', 'GOOG', ' TSLA', 'AMZN', 'JPN'], dtype='object')\n",
      "<PandasArray>\n",
      "[210, 91, 35, 300, 100]\n",
      "Length: 5, dtype: int64\n",
      "int64\n"
     ]
    }
   ],
   "source": [
    "import numpy as np\n",
    "import pandas as pd\n",
    "stocks = pd.Series([210, 91, 35,300,100] , index=['AAPL', 'GOOG' ,' TSLA', 'AMZN', 'JPN'])\n",
    "print(stocks.index)\n",
    "print(stocks.array)\n",
    "print(stocks.dtype)"
   ]
  },
  {
   "cell_type": "markdown",
   "id": "e8fd4203-efd3-49ec-9317-e7124eef7f22",
   "metadata": {},
   "source": [
    "### 2.DataFrame Creation:\n",
    "\n",
    "- #### Construct a DataFrame using a dictionary of lists, with columns: 'Name', 'Department', 'Salary'.\n",
    "- #### Set custom row labels for employee IDs (e.g., 'EMP001', ...)."
   ]
  },
  {
   "cell_type": "code",
   "execution_count": 106,
   "id": "ce02e891-2f1d-4a16-bd5d-ebeb5690ea50",
   "metadata": {},
   "outputs": [
    {
     "name": "stdout",
     "output_type": "stream",
     "text": [
      "           Name      Department  Salary\n",
      "EMP001  Krishna        Accounts   70000\n",
      "EMP002     Mani       Managment   80000\n",
      "EMP003   Bhagya  Data_analysist   90000\n",
      "EMP004   Satish       Team_lead  100000\n",
      "EMP005    Vijay    Software_dev  110000\n"
     ]
    }
   ],
   "source": [
    "data = {\"Name\":[\"Krishna\",\"Mani\",\"Bhagya\",\"Satish\",\"Vijay\"], \"Department\":[\"Accounts\",\"Managment\",\"Data_analysist\",\"Team_lead\",\"Software_dev\"], \"Salary\":[70000,80000,90000,100000,110000]}\n",
    "frame = pd.DataFrame(data, index = [\"EMP001\", \"EMP002\", \"EMP003\", \"EMP004\",\"EMP005\"])\n",
    "print(frame)"
   ]
  },
  {
   "cell_type": "markdown",
   "id": "230254ed-4590-4c93-a335-16b26e92ac92",
   "metadata": {},
   "source": [
    "### 3.Inspect the Data:\n",
    "\n",
    "- #### Use .head(), .tail(), .shape, and .dtypes to inspect the DataFrame."
   ]
  },
  {
   "cell_type": "code",
   "execution_count": 18,
   "id": "327e5d90-57bd-4077-b4ce-f74feadc8013",
   "metadata": {},
   "outputs": [
    {
     "name": "stdout",
     "output_type": "stream",
     "text": [
      "           Name      Department  Salary\n",
      "EMP001  Krishna        Accounts    7000\n",
      "EMP002     Mani       Managment    8000\n",
      "EMP003   Bhagya  Data_analysist    9000\n",
      "EMP004   Satish       Team_lead   10000\n",
      "EMP005    Vijay    Software_dev   11000\n",
      "shape of frame is (5, 3)\n"
     ]
    },
    {
     "data": {
      "text/plain": [
       "Name          object\n",
       "Department    object\n",
       "Salary         int64\n",
       "dtype: object"
      ]
     },
     "execution_count": 18,
     "metadata": {},
     "output_type": "execute_result"
    }
   ],
   "source": [
    "print(frame.head())\n",
    "frame.tail()\n",
    "print(f\"shape of frame is {frame.shape}\")\n",
    "frame.dtypes"
   ]
  },
  {
   "cell_type": "markdown",
   "id": "56f12bf9-ba3b-42de-82d6-9aa0923e3e13",
   "metadata": {},
   "source": [
    "# Task 2: Reindexing and Dropping"
   ]
  },
  {
   "cell_type": "markdown",
   "id": "fd352d8c-3b15-4c6c-aa05-c8113c1a9102",
   "metadata": {},
   "source": [
    "### 1.Reindex the DataFrame to include an extra row index 'EMP999' and use forward fill (ffill) to populate it."
   ]
  },
  {
   "cell_type": "code",
   "execution_count": 19,
   "id": "1f108c94-efe6-4cc9-956e-a18fa642617a",
   "metadata": {},
   "outputs": [
    {
     "data": {
      "text/html": [
       "<div>\n",
       "<style scoped>\n",
       "    .dataframe tbody tr th:only-of-type {\n",
       "        vertical-align: middle;\n",
       "    }\n",
       "\n",
       "    .dataframe tbody tr th {\n",
       "        vertical-align: top;\n",
       "    }\n",
       "\n",
       "    .dataframe thead th {\n",
       "        text-align: right;\n",
       "    }\n",
       "</style>\n",
       "<table border=\"1\" class=\"dataframe\">\n",
       "  <thead>\n",
       "    <tr style=\"text-align: right;\">\n",
       "      <th></th>\n",
       "      <th>Name</th>\n",
       "      <th>Department</th>\n",
       "      <th>Salary</th>\n",
       "    </tr>\n",
       "  </thead>\n",
       "  <tbody>\n",
       "    <tr>\n",
       "      <th>EMP001</th>\n",
       "      <td>Krishna</td>\n",
       "      <td>Accounts</td>\n",
       "      <td>7000</td>\n",
       "    </tr>\n",
       "    <tr>\n",
       "      <th>EMP002</th>\n",
       "      <td>Mani</td>\n",
       "      <td>Managment</td>\n",
       "      <td>8000</td>\n",
       "    </tr>\n",
       "    <tr>\n",
       "      <th>EMP003</th>\n",
       "      <td>Bhagya</td>\n",
       "      <td>Data_analysist</td>\n",
       "      <td>9000</td>\n",
       "    </tr>\n",
       "    <tr>\n",
       "      <th>EMP004</th>\n",
       "      <td>Satish</td>\n",
       "      <td>Team_lead</td>\n",
       "      <td>10000</td>\n",
       "    </tr>\n",
       "    <tr>\n",
       "      <th>EMP005</th>\n",
       "      <td>Vijay</td>\n",
       "      <td>Software_dev</td>\n",
       "      <td>11000</td>\n",
       "    </tr>\n",
       "    <tr>\n",
       "      <th>EMP999</th>\n",
       "      <td>Vijay</td>\n",
       "      <td>Software_dev</td>\n",
       "      <td>11000</td>\n",
       "    </tr>\n",
       "  </tbody>\n",
       "</table>\n",
       "</div>"
      ],
      "text/plain": [
       "           Name      Department  Salary\n",
       "EMP001  Krishna        Accounts    7000\n",
       "EMP002     Mani       Managment    8000\n",
       "EMP003   Bhagya  Data_analysist    9000\n",
       "EMP004   Satish       Team_lead   10000\n",
       "EMP005    Vijay    Software_dev   11000\n",
       "EMP999    Vijay    Software_dev   11000"
      ]
     },
     "execution_count": 19,
     "metadata": {},
     "output_type": "execute_result"
    }
   ],
   "source": [
    "frame.reindex(index = [\"EMP001\", \"EMP002\", \"EMP003\", \"EMP004\",\"EMP005\", \"EMP999\"], method=\"ffill\")"
   ]
  },
  {
   "cell_type": "markdown",
   "id": "afea1448-93db-4a2a-8ed8-e6347876285c",
   "metadata": {},
   "source": [
    "### 2.Drop:\n",
    "\n",
    "- #### The 'Department' column.\n",
    "- #### The row with employee ID 'EMP003'."
   ]
  },
  {
   "cell_type": "code",
   "execution_count": 23,
   "id": "cf82fe08-429a-4a86-83db-0ecce94d2de8",
   "metadata": {},
   "outputs": [
    {
     "data": {
      "text/html": [
       "<div>\n",
       "<style scoped>\n",
       "    .dataframe tbody tr th:only-of-type {\n",
       "        vertical-align: middle;\n",
       "    }\n",
       "\n",
       "    .dataframe tbody tr th {\n",
       "        vertical-align: top;\n",
       "    }\n",
       "\n",
       "    .dataframe thead th {\n",
       "        text-align: right;\n",
       "    }\n",
       "</style>\n",
       "<table border=\"1\" class=\"dataframe\">\n",
       "  <thead>\n",
       "    <tr style=\"text-align: right;\">\n",
       "      <th></th>\n",
       "      <th>Name</th>\n",
       "      <th>Salary</th>\n",
       "    </tr>\n",
       "  </thead>\n",
       "  <tbody>\n",
       "    <tr>\n",
       "      <th>EMP001</th>\n",
       "      <td>Krishna</td>\n",
       "      <td>7000</td>\n",
       "    </tr>\n",
       "    <tr>\n",
       "      <th>EMP002</th>\n",
       "      <td>Mani</td>\n",
       "      <td>8000</td>\n",
       "    </tr>\n",
       "    <tr>\n",
       "      <th>EMP004</th>\n",
       "      <td>Satish</td>\n",
       "      <td>10000</td>\n",
       "    </tr>\n",
       "    <tr>\n",
       "      <th>EMP005</th>\n",
       "      <td>Vijay</td>\n",
       "      <td>11000</td>\n",
       "    </tr>\n",
       "  </tbody>\n",
       "</table>\n",
       "</div>"
      ],
      "text/plain": [
       "           Name  Salary\n",
       "EMP001  Krishna    7000\n",
       "EMP002     Mani    8000\n",
       "EMP004   Satish   10000\n",
       "EMP005    Vijay   11000"
      ]
     },
     "execution_count": 23,
     "metadata": {},
     "output_type": "execute_result"
    }
   ],
   "source": [
    "frame.drop(columns =\"Department\" , index = [\"EMP003\"])"
   ]
  },
  {
   "cell_type": "markdown",
   "id": "cfd1124c-fad2-486d-91b0-7fb408863010",
   "metadata": {},
   "source": [
    "# Task 3: Selection and Filtering"
   ]
  },
  {
   "cell_type": "markdown",
   "id": "004c9961-98bb-4afc-b443-5334b6c9da7f",
   "metadata": {},
   "source": [
    "### 1.Use .loc[] to select:\n",
    "\n",
    "- #### The 'Name' and 'Salary' for 'EMP002'."
   ]
  },
  {
   "cell_type": "code",
   "execution_count": 25,
   "id": "407b25ea-c002-4f31-a11c-fce1bc6a2d3e",
   "metadata": {},
   "outputs": [
    {
     "data": {
      "text/plain": [
       "Name      Mani\n",
       "Salary    8000\n",
       "Name: EMP002, dtype: object"
      ]
     },
     "execution_count": 25,
     "metadata": {},
     "output_type": "execute_result"
    }
   ],
   "source": [
    "frame.loc[\"EMP002\",[\"Name\",\"Salary\"]]"
   ]
  },
  {
   "cell_type": "markdown",
   "id": "0796074a-a159-4465-a47f-bec4081d7fba",
   "metadata": {},
   "source": [
    "### 2.Use .iloc[] to select:\n",
    "\n",
    "- #### The first 3 rows."
   ]
  },
  {
   "cell_type": "code",
   "execution_count": 26,
   "id": "7aa2a1b0-71b4-4936-8bc7-ec2814050e86",
   "metadata": {},
   "outputs": [
    {
     "data": {
      "text/html": [
       "<div>\n",
       "<style scoped>\n",
       "    .dataframe tbody tr th:only-of-type {\n",
       "        vertical-align: middle;\n",
       "    }\n",
       "\n",
       "    .dataframe tbody tr th {\n",
       "        vertical-align: top;\n",
       "    }\n",
       "\n",
       "    .dataframe thead th {\n",
       "        text-align: right;\n",
       "    }\n",
       "</style>\n",
       "<table border=\"1\" class=\"dataframe\">\n",
       "  <thead>\n",
       "    <tr style=\"text-align: right;\">\n",
       "      <th></th>\n",
       "      <th>Name</th>\n",
       "      <th>Department</th>\n",
       "      <th>Salary</th>\n",
       "    </tr>\n",
       "  </thead>\n",
       "  <tbody>\n",
       "    <tr>\n",
       "      <th>EMP001</th>\n",
       "      <td>Krishna</td>\n",
       "      <td>Accounts</td>\n",
       "      <td>7000</td>\n",
       "    </tr>\n",
       "    <tr>\n",
       "      <th>EMP002</th>\n",
       "      <td>Mani</td>\n",
       "      <td>Managment</td>\n",
       "      <td>8000</td>\n",
       "    </tr>\n",
       "    <tr>\n",
       "      <th>EMP003</th>\n",
       "      <td>Bhagya</td>\n",
       "      <td>Data_analysist</td>\n",
       "      <td>9000</td>\n",
       "    </tr>\n",
       "  </tbody>\n",
       "</table>\n",
       "</div>"
      ],
      "text/plain": [
       "           Name      Department  Salary\n",
       "EMP001  Krishna        Accounts    7000\n",
       "EMP002     Mani       Managment    8000\n",
       "EMP003   Bhagya  Data_analysist    9000"
      ]
     },
     "execution_count": 26,
     "metadata": {},
     "output_type": "execute_result"
    }
   ],
   "source": [
    "frame.iloc[:3]"
   ]
  },
  {
   "cell_type": "markdown",
   "id": "a9c4285d-3c0c-4dec-946b-9f13398a5a86",
   "metadata": {},
   "source": [
    "### 3.Filter the DataFrame to find:\n",
    "\n",
    "- #### Employees with salary above 60,000.\n",
    "- #### Employees in departments matching a list of ['IT', 'Finance'] using isin()."
   ]
  },
  {
   "cell_type": "code",
   "execution_count": 28,
   "id": "dffe3830-d112-4e4c-a249-3edee744f3db",
   "metadata": {},
   "outputs": [
    {
     "data": {
      "text/html": [
       "<div>\n",
       "<style scoped>\n",
       "    .dataframe tbody tr th:only-of-type {\n",
       "        vertical-align: middle;\n",
       "    }\n",
       "\n",
       "    .dataframe tbody tr th {\n",
       "        vertical-align: top;\n",
       "    }\n",
       "\n",
       "    .dataframe thead th {\n",
       "        text-align: right;\n",
       "    }\n",
       "</style>\n",
       "<table border=\"1\" class=\"dataframe\">\n",
       "  <thead>\n",
       "    <tr style=\"text-align: right;\">\n",
       "      <th></th>\n",
       "      <th>Name</th>\n",
       "      <th>Department</th>\n",
       "      <th>Salary</th>\n",
       "    </tr>\n",
       "  </thead>\n",
       "  <tbody>\n",
       "    <tr>\n",
       "      <th>EMP001</th>\n",
       "      <td>Krishna</td>\n",
       "      <td>Accounts</td>\n",
       "      <td>7000</td>\n",
       "    </tr>\n",
       "    <tr>\n",
       "      <th>EMP002</th>\n",
       "      <td>Mani</td>\n",
       "      <td>Managment</td>\n",
       "      <td>8000</td>\n",
       "    </tr>\n",
       "    <tr>\n",
       "      <th>EMP003</th>\n",
       "      <td>Bhagya</td>\n",
       "      <td>Data_analysist</td>\n",
       "      <td>9000</td>\n",
       "    </tr>\n",
       "    <tr>\n",
       "      <th>EMP004</th>\n",
       "      <td>Satish</td>\n",
       "      <td>Team_lead</td>\n",
       "      <td>10000</td>\n",
       "    </tr>\n",
       "    <tr>\n",
       "      <th>EMP005</th>\n",
       "      <td>Vijay</td>\n",
       "      <td>Software_dev</td>\n",
       "      <td>11000</td>\n",
       "    </tr>\n",
       "  </tbody>\n",
       "</table>\n",
       "</div>"
      ],
      "text/plain": [
       "           Name      Department  Salary\n",
       "EMP001  Krishna        Accounts    7000\n",
       "EMP002     Mani       Managment    8000\n",
       "EMP003   Bhagya  Data_analysist    9000\n",
       "EMP004   Satish       Team_lead   10000\n",
       "EMP005    Vijay    Software_dev   11000"
      ]
     },
     "execution_count": 28,
     "metadata": {},
     "output_type": "execute_result"
    }
   ],
   "source": [
    "frame[frame[\"Salary\"] > 6000]"
   ]
  },
  {
   "cell_type": "code",
   "execution_count": 31,
   "id": "0f256e0e-3a9f-4141-9da0-154b2244bdff",
   "metadata": {},
   "outputs": [
    {
     "name": "stdout",
     "output_type": "stream",
     "text": [
      "          Name      Department  Salary\n",
      "EMP003  Bhagya  Data_analysist    9000\n",
      "EMP004  Satish       Team_lead   10000\n",
      "EMP005   Vijay    Software_dev   11000\n"
     ]
    }
   ],
   "source": [
    "# The dataFrame i created , there are no repetative roles in department column so im using the roles i created in dataframe department column\n",
    "filtered_frame = frame[frame[\"Department\"].isin([\"accounts\",\"Data_analysist\",\"Team_lead\",\"Software_dev\"])]\n",
    "print(filtered_frame)"
   ]
  },
  {
   "cell_type": "markdown",
   "id": "5fe79ddb-3aa4-42b9-84c0-bc3a0bbdb7a8",
   "metadata": {},
   "source": [
    "# Task 4: Arithmetic and Alignment"
   ]
  },
  {
   "cell_type": "markdown",
   "id": "62f54f56-4ea8-496d-a575-d538ae8b9622",
   "metadata": {},
   "source": [
    "### 1.Create a Series of bonuses indexed by employee IDs, with one ID missing and one extra."
   ]
  },
  {
   "cell_type": "code",
   "execution_count": 33,
   "id": "f651b02d-0541-49e4-b125-d12fb5edff84",
   "metadata": {},
   "outputs": [
    {
     "data": {
      "text/plain": [
       "EMP001     500\n",
       "EMP002    2000\n",
       "EMP004    4000\n",
       "EMP005    5000\n",
       "EMP006    6000\n",
       "dtype: int64"
      ]
     },
     "execution_count": 33,
     "metadata": {},
     "output_type": "execute_result"
    }
   ],
   "source": [
    "bonus = pd.Series([500,2000,4000,5000,6000], index = [\"EMP001\", \"EMP002\",\"EMP004\",\"EMP005\",\"EMP006\"])\n",
    "bonus"
   ]
  },
  {
   "cell_type": "markdown",
   "id": "c32ef1a2-9e26-4038-a29e-0ef6cde9aa45",
   "metadata": {},
   "source": [
    "### 2.Add the bonus Series to the 'Salary' column and observe alignment. Use fill_value=0 to replace NaN with 0."
   ]
  },
  {
   "cell_type": "code",
   "execution_count": 48,
   "id": "639c95bc-93e5-4905-add0-4e92b08c6d0f",
   "metadata": {},
   "outputs": [
    {
     "data": {
      "text/plain": [
       "EMP001     7500.0\n",
       "EMP002    10000.0\n",
       "EMP003     9000.0\n",
       "EMP004    14000.0\n",
       "EMP005    16000.0\n",
       "EMP006     6000.0\n",
       "dtype: float64"
      ]
     },
     "execution_count": 48,
     "metadata": {},
     "output_type": "execute_result"
    }
   ],
   "source": [
    "increment_frame = frame.loc[:,\"Salary\"].add(bonus, fill_value = 0)\n",
    "increment_frame"
   ]
  },
  {
   "cell_type": "markdown",
   "id": "1357d31a-a84c-456b-99f6-434c034a8aea",
   "metadata": {},
   "source": [
    "### 3.Calculate the percentage increase using broadcasting."
   ]
  },
  {
   "cell_type": "code",
   "execution_count": 68,
   "id": "7dc39c20-1d9a-4910-961a-424e951c3e72",
   "metadata": {},
   "outputs": [
    {
     "data": {
      "text/plain": [
       "EMP001     11.0\n",
       "EMP002     12.0\n",
       "EMP003     10.0\n",
       "EMP004    140.0\n",
       "EMP005     15.0\n",
       "EMP006      NaN\n",
       "dtype: float64"
      ]
     },
     "execution_count": 68,
     "metadata": {},
     "output_type": "execute_result"
    }
   ],
   "source": [
    "percentage_increase = (increment_frame/frame.loc[:,\"Salary\"]) *100\n",
    "np.rint(percentage_increase)"
   ]
  },
  {
   "cell_type": "markdown",
   "id": "103db9fe-2188-4427-b759-fecd93cc1e7f",
   "metadata": {},
   "source": [
    "# Task 5: Function Application"
   ]
  },
  {
   "cell_type": "markdown",
   "id": "75e3ea66-b252-4848-ba8b-7f359279c7ce",
   "metadata": {},
   "source": [
    "### 1.Apply a lambda function to:\n",
    "\n",
    "- #### Convert all employee names to uppercase.\n"
   ]
  },
  {
   "cell_type": "code",
   "execution_count": 95,
   "id": "62a52c16-929b-48ef-8b87-8aaba21593fd",
   "metadata": {},
   "outputs": [
    {
     "data": {
      "text/plain": [
       "Index(['EMP001', 'EMP002', 'EMP003', 'EMP004', 'EMP005'], dtype='object')"
      ]
     },
     "execution_count": 95,
     "metadata": {},
     "output_type": "execute_result"
    }
   ],
   "source": [
    "case_change = frame.index.map(lambda x: x.upper())\n",
    "case_change"
   ]
  },
  {
   "cell_type": "markdown",
   "id": "b5ddadbd-7f0f-46b2-b59a-a34edafdea92",
   "metadata": {},
   "source": [
    "### 2.Use .apply() to:\n",
    "\n",
    "- #### Create a new column 'Net Salary' by applying a tax deduction of 10% to the 'Salary'."
   ]
  },
  {
   "cell_type": "code",
   "execution_count": 107,
   "id": "960460a1-4016-48fe-9755-81f409dbb8d7",
   "metadata": {},
   "outputs": [
    {
     "data": {
      "text/html": [
       "<div>\n",
       "<style scoped>\n",
       "    .dataframe tbody tr th:only-of-type {\n",
       "        vertical-align: middle;\n",
       "    }\n",
       "\n",
       "    .dataframe tbody tr th {\n",
       "        vertical-align: top;\n",
       "    }\n",
       "\n",
       "    .dataframe thead th {\n",
       "        text-align: right;\n",
       "    }\n",
       "</style>\n",
       "<table border=\"1\" class=\"dataframe\">\n",
       "  <thead>\n",
       "    <tr style=\"text-align: right;\">\n",
       "      <th></th>\n",
       "      <th>Name</th>\n",
       "      <th>Department</th>\n",
       "      <th>Salary</th>\n",
       "      <th>Net Salary</th>\n",
       "    </tr>\n",
       "  </thead>\n",
       "  <tbody>\n",
       "    <tr>\n",
       "      <th>EMP001</th>\n",
       "      <td>Krishna</td>\n",
       "      <td>Accounts</td>\n",
       "      <td>70000</td>\n",
       "      <td>63000.0</td>\n",
       "    </tr>\n",
       "    <tr>\n",
       "      <th>EMP002</th>\n",
       "      <td>Mani</td>\n",
       "      <td>Managment</td>\n",
       "      <td>80000</td>\n",
       "      <td>72000.0</td>\n",
       "    </tr>\n",
       "    <tr>\n",
       "      <th>EMP003</th>\n",
       "      <td>Bhagya</td>\n",
       "      <td>Data_analysist</td>\n",
       "      <td>90000</td>\n",
       "      <td>81000.0</td>\n",
       "    </tr>\n",
       "    <tr>\n",
       "      <th>EMP004</th>\n",
       "      <td>Satish</td>\n",
       "      <td>Team_lead</td>\n",
       "      <td>100000</td>\n",
       "      <td>90000.0</td>\n",
       "    </tr>\n",
       "    <tr>\n",
       "      <th>EMP005</th>\n",
       "      <td>Vijay</td>\n",
       "      <td>Software_dev</td>\n",
       "      <td>110000</td>\n",
       "      <td>99000.0</td>\n",
       "    </tr>\n",
       "  </tbody>\n",
       "</table>\n",
       "</div>"
      ],
      "text/plain": [
       "           Name      Department  Salary  Net Salary\n",
       "EMP001  Krishna        Accounts   70000     63000.0\n",
       "EMP002     Mani       Managment   80000     72000.0\n",
       "EMP003   Bhagya  Data_analysist   90000     81000.0\n",
       "EMP004   Satish       Team_lead  100000     90000.0\n",
       "EMP005    Vijay    Software_dev  110000     99000.0"
      ]
     },
     "execution_count": 107,
     "metadata": {},
     "output_type": "execute_result"
    }
   ],
   "source": [
    "frame[\"Net Salary\"] = frame[\"Salary\"].apply(lambda x: x - (0.10 * x))\n",
    "frame"
   ]
  },
  {
   "cell_type": "markdown",
   "id": "46f38b6f-0497-415c-9ea7-509f755a8be2",
   "metadata": {},
   "source": [
    "# Task 6: Sorting and Ranking"
   ]
  },
  {
   "cell_type": "markdown",
   "id": "f8a2cd31-2db3-489a-bd51-916217d77f1c",
   "metadata": {},
   "source": [
    "### 1.Sort the DataFrame by:\n",
    "\n",
    "- #### Index (row labels).\n",
    "- #### Salary in descending order."
   ]
  },
  {
   "cell_type": "code",
   "execution_count": 108,
   "id": "3b332077-f9a3-4155-9b85-3f8212b4810c",
   "metadata": {},
   "outputs": [
    {
     "data": {
      "text/html": [
       "<div>\n",
       "<style scoped>\n",
       "    .dataframe tbody tr th:only-of-type {\n",
       "        vertical-align: middle;\n",
       "    }\n",
       "\n",
       "    .dataframe tbody tr th {\n",
       "        vertical-align: top;\n",
       "    }\n",
       "\n",
       "    .dataframe thead th {\n",
       "        text-align: right;\n",
       "    }\n",
       "</style>\n",
       "<table border=\"1\" class=\"dataframe\">\n",
       "  <thead>\n",
       "    <tr style=\"text-align: right;\">\n",
       "      <th></th>\n",
       "      <th>Name</th>\n",
       "      <th>Department</th>\n",
       "      <th>Salary</th>\n",
       "      <th>Net Salary</th>\n",
       "    </tr>\n",
       "  </thead>\n",
       "  <tbody>\n",
       "    <tr>\n",
       "      <th>EMP001</th>\n",
       "      <td>Krishna</td>\n",
       "      <td>Accounts</td>\n",
       "      <td>70000</td>\n",
       "      <td>63000.0</td>\n",
       "    </tr>\n",
       "    <tr>\n",
       "      <th>EMP002</th>\n",
       "      <td>Mani</td>\n",
       "      <td>Managment</td>\n",
       "      <td>80000</td>\n",
       "      <td>72000.0</td>\n",
       "    </tr>\n",
       "    <tr>\n",
       "      <th>EMP003</th>\n",
       "      <td>Bhagya</td>\n",
       "      <td>Data_analysist</td>\n",
       "      <td>90000</td>\n",
       "      <td>81000.0</td>\n",
       "    </tr>\n",
       "    <tr>\n",
       "      <th>EMP004</th>\n",
       "      <td>Satish</td>\n",
       "      <td>Team_lead</td>\n",
       "      <td>100000</td>\n",
       "      <td>90000.0</td>\n",
       "    </tr>\n",
       "    <tr>\n",
       "      <th>EMP005</th>\n",
       "      <td>Vijay</td>\n",
       "      <td>Software_dev</td>\n",
       "      <td>110000</td>\n",
       "      <td>99000.0</td>\n",
       "    </tr>\n",
       "  </tbody>\n",
       "</table>\n",
       "</div>"
      ],
      "text/plain": [
       "           Name      Department  Salary  Net Salary\n",
       "EMP001  Krishna        Accounts   70000     63000.0\n",
       "EMP002     Mani       Managment   80000     72000.0\n",
       "EMP003   Bhagya  Data_analysist   90000     81000.0\n",
       "EMP004   Satish       Team_lead  100000     90000.0\n",
       "EMP005    Vijay    Software_dev  110000     99000.0"
      ]
     },
     "execution_count": 108,
     "metadata": {},
     "output_type": "execute_result"
    }
   ],
   "source": [
    "frame.sort_index()"
   ]
  },
  {
   "cell_type": "code",
   "execution_count": 110,
   "id": "07735fbe-5ee0-419d-b1ed-ed188fc4c839",
   "metadata": {},
   "outputs": [
    {
     "data": {
      "text/html": [
       "<div>\n",
       "<style scoped>\n",
       "    .dataframe tbody tr th:only-of-type {\n",
       "        vertical-align: middle;\n",
       "    }\n",
       "\n",
       "    .dataframe tbody tr th {\n",
       "        vertical-align: top;\n",
       "    }\n",
       "\n",
       "    .dataframe thead th {\n",
       "        text-align: right;\n",
       "    }\n",
       "</style>\n",
       "<table border=\"1\" class=\"dataframe\">\n",
       "  <thead>\n",
       "    <tr style=\"text-align: right;\">\n",
       "      <th></th>\n",
       "      <th>Name</th>\n",
       "      <th>Department</th>\n",
       "      <th>Salary</th>\n",
       "      <th>Net Salary</th>\n",
       "    </tr>\n",
       "  </thead>\n",
       "  <tbody>\n",
       "    <tr>\n",
       "      <th>EMP005</th>\n",
       "      <td>Vijay</td>\n",
       "      <td>Software_dev</td>\n",
       "      <td>110000</td>\n",
       "      <td>99000.0</td>\n",
       "    </tr>\n",
       "    <tr>\n",
       "      <th>EMP004</th>\n",
       "      <td>Satish</td>\n",
       "      <td>Team_lead</td>\n",
       "      <td>100000</td>\n",
       "      <td>90000.0</td>\n",
       "    </tr>\n",
       "    <tr>\n",
       "      <th>EMP003</th>\n",
       "      <td>Bhagya</td>\n",
       "      <td>Data_analysist</td>\n",
       "      <td>90000</td>\n",
       "      <td>81000.0</td>\n",
       "    </tr>\n",
       "    <tr>\n",
       "      <th>EMP002</th>\n",
       "      <td>Mani</td>\n",
       "      <td>Managment</td>\n",
       "      <td>80000</td>\n",
       "      <td>72000.0</td>\n",
       "    </tr>\n",
       "    <tr>\n",
       "      <th>EMP001</th>\n",
       "      <td>Krishna</td>\n",
       "      <td>Accounts</td>\n",
       "      <td>70000</td>\n",
       "      <td>63000.0</td>\n",
       "    </tr>\n",
       "  </tbody>\n",
       "</table>\n",
       "</div>"
      ],
      "text/plain": [
       "           Name      Department  Salary  Net Salary\n",
       "EMP005    Vijay    Software_dev  110000     99000.0\n",
       "EMP004   Satish       Team_lead  100000     90000.0\n",
       "EMP003   Bhagya  Data_analysist   90000     81000.0\n",
       "EMP002     Mani       Managment   80000     72000.0\n",
       "EMP001  Krishna        Accounts   70000     63000.0"
      ]
     },
     "execution_count": 110,
     "metadata": {},
     "output_type": "execute_result"
    }
   ],
   "source": [
    "frame.sort_values([\"Salary\"] ,ascending = False)"
   ]
  },
  {
   "cell_type": "markdown",
   "id": "ac4bb6e1-7f07-4b85-890f-d29ecbc927c1",
   "metadata": {},
   "source": [
    "### 2. Add a 'Salary Rank' column using .rank() (use method='min' for tie breaking)."
   ]
  },
  {
   "cell_type": "code",
   "execution_count": 120,
   "id": "ac7ca631-0053-4095-aac3-a2fb3f6d9d5a",
   "metadata": {},
   "outputs": [
    {
     "data": {
      "text/html": [
       "<div>\n",
       "<style scoped>\n",
       "    .dataframe tbody tr th:only-of-type {\n",
       "        vertical-align: middle;\n",
       "    }\n",
       "\n",
       "    .dataframe tbody tr th {\n",
       "        vertical-align: top;\n",
       "    }\n",
       "\n",
       "    .dataframe thead th {\n",
       "        text-align: right;\n",
       "    }\n",
       "</style>\n",
       "<table border=\"1\" class=\"dataframe\">\n",
       "  <thead>\n",
       "    <tr style=\"text-align: right;\">\n",
       "      <th></th>\n",
       "      <th>Name</th>\n",
       "      <th>Department</th>\n",
       "      <th>Salary</th>\n",
       "      <th>Net Salary</th>\n",
       "      <th>Salary Rank</th>\n",
       "    </tr>\n",
       "  </thead>\n",
       "  <tbody>\n",
       "    <tr>\n",
       "      <th>EMP001</th>\n",
       "      <td>Krishna</td>\n",
       "      <td>Accounts</td>\n",
       "      <td>70000</td>\n",
       "      <td>63000.0</td>\n",
       "      <td>1.0</td>\n",
       "    </tr>\n",
       "    <tr>\n",
       "      <th>EMP002</th>\n",
       "      <td>Mani</td>\n",
       "      <td>Managment</td>\n",
       "      <td>80000</td>\n",
       "      <td>72000.0</td>\n",
       "      <td>2.0</td>\n",
       "    </tr>\n",
       "    <tr>\n",
       "      <th>EMP003</th>\n",
       "      <td>Bhagya</td>\n",
       "      <td>Data_analysist</td>\n",
       "      <td>90000</td>\n",
       "      <td>81000.0</td>\n",
       "      <td>3.0</td>\n",
       "    </tr>\n",
       "    <tr>\n",
       "      <th>EMP004</th>\n",
       "      <td>Satish</td>\n",
       "      <td>Team_lead</td>\n",
       "      <td>100000</td>\n",
       "      <td>90000.0</td>\n",
       "      <td>4.0</td>\n",
       "    </tr>\n",
       "    <tr>\n",
       "      <th>EMP005</th>\n",
       "      <td>Vijay</td>\n",
       "      <td>Software_dev</td>\n",
       "      <td>110000</td>\n",
       "      <td>99000.0</td>\n",
       "      <td>5.0</td>\n",
       "    </tr>\n",
       "  </tbody>\n",
       "</table>\n",
       "</div>"
      ],
      "text/plain": [
       "           Name      Department  Salary  Net Salary  Salary Rank\n",
       "EMP001  Krishna        Accounts   70000     63000.0          1.0\n",
       "EMP002     Mani       Managment   80000     72000.0          2.0\n",
       "EMP003   Bhagya  Data_analysist   90000     81000.0          3.0\n",
       "EMP004   Satish       Team_lead  100000     90000.0          4.0\n",
       "EMP005    Vijay    Software_dev  110000     99000.0          5.0"
      ]
     },
     "execution_count": 120,
     "metadata": {},
     "output_type": "execute_result"
    }
   ],
   "source": [
    "frame[\"Salary Rank\"] = frame[\"Salary\"].rank( method= \"min\")\n",
    "frame"
   ]
  },
  {
   "cell_type": "markdown",
   "id": "929d0cce-1424-4f9a-80ff-e502a8da32ad",
   "metadata": {},
   "source": [
    "# Task 7: Duplicate Indexes"
   ]
  },
  {
   "cell_type": "markdown",
   "id": "e4c47c34-bbb0-4dff-8538-c2d3d0aed094",
   "metadata": {},
   "source": [
    "### 1.Create a Series with duplicate index labels."
   ]
  },
  {
   "cell_type": "code",
   "execution_count": 124,
   "id": "91a38016-e30f-4bae-9eef-73ea0b593d3d",
   "metadata": {},
   "outputs": [],
   "source": [
    "obj = pd.Series(np.arange(6), index = [\"a\", \"b\", \"b\", \"c\", \"a\", \"d\"])"
   ]
  },
  {
   "cell_type": "markdown",
   "id": "d1075ca1-9254-4776-b53d-96ced6026d0f",
   "metadata": {},
   "source": [
    "### 2.Use .loc[] on the Series to retrieve all values for a duplicate index."
   ]
  },
  {
   "cell_type": "code",
   "execution_count": 127,
   "id": "b834b24b-2a42-4a3e-9fb8-c86fb31a9a68",
   "metadata": {},
   "outputs": [
    {
     "data": {
      "text/plain": [
       "a    0\n",
       "a    4\n",
       "b    1\n",
       "b    2\n",
       "dtype: int64"
      ]
     },
     "execution_count": 127,
     "metadata": {},
     "output_type": "execute_result"
    }
   ],
   "source": [
    "obj.loc[[\"a\",\"b\"]]"
   ]
  },
  {
   "cell_type": "markdown",
   "id": "5337b541-b74b-4be2-8835-e09f7b6eafd8",
   "metadata": {},
   "source": [
    "### 3.Comment on what happens when applying .mean() and .sum() on this Series."
   ]
  },
  {
   "cell_type": "code",
   "execution_count": 128,
   "id": "aa58600f-0cf7-42a3-98cd-7b7c79f394fa",
   "metadata": {},
   "outputs": [
    {
     "data": {
      "text/plain": [
       "15"
      ]
     },
     "execution_count": 128,
     "metadata": {},
     "output_type": "execute_result"
    }
   ],
   "source": [
    "obj.sum()\n"
   ]
  },
  {
   "cell_type": "code",
   "execution_count": 129,
   "id": "3af1f5c6-8c6d-44d0-b465-be47650f7b5f",
   "metadata": {},
   "outputs": [
    {
     "data": {
      "text/plain": [
       "2.5"
      ]
     },
     "execution_count": 129,
     "metadata": {},
     "output_type": "execute_result"
    }
   ],
   "source": [
    "obj.mean()\n",
    "# Here sum amd mean extract a single value from a series by using summary statistics"
   ]
  },
  {
   "cell_type": "markdown",
   "id": "31ff2cc7-0296-4c0b-9ac1-bc25617ebbea",
   "metadata": {},
   "source": [
    "# Task 8: Descriptive and Statistical Summary"
   ]
  },
  {
   "cell_type": "markdown",
   "id": "ae4cad26-e03c-43a5-9ff8-b2c529886a72",
   "metadata": {},
   "source": [
    "### 1.Use .describe() on the numeric columns."
   ]
  },
  {
   "cell_type": "code",
   "execution_count": 130,
   "id": "471b3846-bc3a-4b56-8f56-d4491bd2f5c0",
   "metadata": {},
   "outputs": [
    {
     "data": {
      "text/html": [
       "<div>\n",
       "<style scoped>\n",
       "    .dataframe tbody tr th:only-of-type {\n",
       "        vertical-align: middle;\n",
       "    }\n",
       "\n",
       "    .dataframe tbody tr th {\n",
       "        vertical-align: top;\n",
       "    }\n",
       "\n",
       "    .dataframe thead th {\n",
       "        text-align: right;\n",
       "    }\n",
       "</style>\n",
       "<table border=\"1\" class=\"dataframe\">\n",
       "  <thead>\n",
       "    <tr style=\"text-align: right;\">\n",
       "      <th></th>\n",
       "      <th>Salary</th>\n",
       "      <th>Net Salary</th>\n",
       "      <th>Salary Rank</th>\n",
       "    </tr>\n",
       "  </thead>\n",
       "  <tbody>\n",
       "    <tr>\n",
       "      <th>count</th>\n",
       "      <td>5.000000</td>\n",
       "      <td>5.000000</td>\n",
       "      <td>5.000000</td>\n",
       "    </tr>\n",
       "    <tr>\n",
       "      <th>mean</th>\n",
       "      <td>90000.000000</td>\n",
       "      <td>81000.000000</td>\n",
       "      <td>3.000000</td>\n",
       "    </tr>\n",
       "    <tr>\n",
       "      <th>std</th>\n",
       "      <td>15811.388301</td>\n",
       "      <td>14230.249471</td>\n",
       "      <td>1.581139</td>\n",
       "    </tr>\n",
       "    <tr>\n",
       "      <th>min</th>\n",
       "      <td>70000.000000</td>\n",
       "      <td>63000.000000</td>\n",
       "      <td>1.000000</td>\n",
       "    </tr>\n",
       "    <tr>\n",
       "      <th>25%</th>\n",
       "      <td>80000.000000</td>\n",
       "      <td>72000.000000</td>\n",
       "      <td>2.000000</td>\n",
       "    </tr>\n",
       "    <tr>\n",
       "      <th>50%</th>\n",
       "      <td>90000.000000</td>\n",
       "      <td>81000.000000</td>\n",
       "      <td>3.000000</td>\n",
       "    </tr>\n",
       "    <tr>\n",
       "      <th>75%</th>\n",
       "      <td>100000.000000</td>\n",
       "      <td>90000.000000</td>\n",
       "      <td>4.000000</td>\n",
       "    </tr>\n",
       "    <tr>\n",
       "      <th>max</th>\n",
       "      <td>110000.000000</td>\n",
       "      <td>99000.000000</td>\n",
       "      <td>5.000000</td>\n",
       "    </tr>\n",
       "  </tbody>\n",
       "</table>\n",
       "</div>"
      ],
      "text/plain": [
       "              Salary    Net Salary  Salary Rank\n",
       "count       5.000000      5.000000     5.000000\n",
       "mean    90000.000000  81000.000000     3.000000\n",
       "std     15811.388301  14230.249471     1.581139\n",
       "min     70000.000000  63000.000000     1.000000\n",
       "25%     80000.000000  72000.000000     2.000000\n",
       "50%     90000.000000  81000.000000     3.000000\n",
       "75%    100000.000000  90000.000000     4.000000\n",
       "max    110000.000000  99000.000000     5.000000"
      ]
     },
     "execution_count": 130,
     "metadata": {},
     "output_type": "execute_result"
    }
   ],
   "source": [
    "frame[[\"Salary\",\"Net Salary\", \"Salary Rank\"]].describe()"
   ]
  },
  {
   "cell_type": "markdown",
   "id": "e3368dae-a3e7-46ea-96ba-9a95e9430402",
   "metadata": {},
   "source": [
    "### 2.Calculate:\n",
    "\n",
    "- #### Mean, standard deviation, and cumulative sum of the 'Salary' column.\n",
    "- #### Index label with the maximum and minimum salary using .idxmax() / .idxmin()."
   ]
  },
  {
   "cell_type": "code",
   "execution_count": 135,
   "id": "4e7963b7-1c9e-4390-ad70-b8c3318a680e",
   "metadata": {},
   "outputs": [
    {
     "data": {
      "text/plain": [
       "EMP001     70000\n",
       "EMP002    150000\n",
       "EMP003    240000\n",
       "EMP004    340000\n",
       "EMP005    450000\n",
       "Name: Salary, dtype: int64"
      ]
     },
     "execution_count": 135,
     "metadata": {},
     "output_type": "execute_result"
    }
   ],
   "source": [
    "frame[\"Salary\"].mean()\n",
    "frame[\"Salary\"].std()\n",
    "frame[\"Salary\"].cumsum()"
   ]
  },
  {
   "cell_type": "code",
   "execution_count": 137,
   "id": "af17597b-b15f-43f9-ac38-78759b761bb7",
   "metadata": {},
   "outputs": [
    {
     "data": {
      "text/plain": [
       "'EMP001'"
      ]
     },
     "execution_count": 137,
     "metadata": {},
     "output_type": "execute_result"
    }
   ],
   "source": [
    "frame[\"Salary\"].idxmax()\n",
    "frame[\"Salary\"].idxmin()"
   ]
  },
  {
   "cell_type": "markdown",
   "id": "da46bb17-36a3-4e47-af90-c395fa474560",
   "metadata": {},
   "source": [
    "# Task 9: Correlation and Categorical Analysis"
   ]
  },
  {
   "cell_type": "markdown",
   "id": "0cc68316-3e2d-4d2a-84e8-e6c7d5518f80",
   "metadata": {},
   "source": [
    "### 1.Create a new DataFrame with two numerical columns (e.g., 'Experience', 'Salary')."
   ]
  },
  {
   "cell_type": "code",
   "execution_count": 144,
   "id": "6952c4cf-ffb7-4f4f-b879-69d3a469c353",
   "metadata": {},
   "outputs": [
    {
     "data": {
      "text/html": [
       "<div>\n",
       "<style scoped>\n",
       "    .dataframe tbody tr th:only-of-type {\n",
       "        vertical-align: middle;\n",
       "    }\n",
       "\n",
       "    .dataframe tbody tr th {\n",
       "        vertical-align: top;\n",
       "    }\n",
       "\n",
       "    .dataframe thead th {\n",
       "        text-align: right;\n",
       "    }\n",
       "</style>\n",
       "<table border=\"1\" class=\"dataframe\">\n",
       "  <thead>\n",
       "    <tr style=\"text-align: right;\">\n",
       "      <th></th>\n",
       "      <th>Experience</th>\n",
       "      <th>Salary</th>\n",
       "    </tr>\n",
       "  </thead>\n",
       "  <tbody>\n",
       "    <tr>\n",
       "      <th>0</th>\n",
       "      <td>1</td>\n",
       "      <td>20000</td>\n",
       "    </tr>\n",
       "    <tr>\n",
       "      <th>1</th>\n",
       "      <td>2</td>\n",
       "      <td>3000</td>\n",
       "    </tr>\n",
       "    <tr>\n",
       "      <th>2</th>\n",
       "      <td>3</td>\n",
       "      <td>40000</td>\n",
       "    </tr>\n",
       "    <tr>\n",
       "      <th>3</th>\n",
       "      <td>4</td>\n",
       "      <td>50000</td>\n",
       "    </tr>\n",
       "    <tr>\n",
       "      <th>4</th>\n",
       "      <td>5</td>\n",
       "      <td>60000</td>\n",
       "    </tr>\n",
       "  </tbody>\n",
       "</table>\n",
       "</div>"
      ],
      "text/plain": [
       "   Experience  Salary\n",
       "0           1   20000\n",
       "1           2    3000\n",
       "2           3   40000\n",
       "3           4   50000\n",
       "4           5   60000"
      ]
     },
     "execution_count": 144,
     "metadata": {},
     "output_type": "execute_result"
    }
   ],
   "source": [
    "data2 = {\"Experience\":[1,2,3,4,5], \"Salary\":[ 20000,3000,40000,50000,60000]}\n",
    "frame2 = pd.DataFrame(data2)\n",
    "frame2\n"
   ]
  },
  {
   "cell_type": "markdown",
   "id": "e6cdd91c-9de7-4ff2-ad18-25d5df91c73e",
   "metadata": {},
   "source": [
    "### 2.Compute:\n",
    "\n",
    "- #### Correlation and covariance matrix using .corr() and .cov()."
   ]
  },
  {
   "cell_type": "code",
   "execution_count": 145,
   "id": "7020ad01-6208-4984-af3e-4adb550ad605",
   "metadata": {},
   "outputs": [
    {
     "data": {
      "text/html": [
       "<div>\n",
       "<style scoped>\n",
       "    .dataframe tbody tr th:only-of-type {\n",
       "        vertical-align: middle;\n",
       "    }\n",
       "\n",
       "    .dataframe tbody tr th {\n",
       "        vertical-align: top;\n",
       "    }\n",
       "\n",
       "    .dataframe thead th {\n",
       "        text-align: right;\n",
       "    }\n",
       "</style>\n",
       "<table border=\"1\" class=\"dataframe\">\n",
       "  <thead>\n",
       "    <tr style=\"text-align: right;\">\n",
       "      <th></th>\n",
       "      <th>Experience</th>\n",
       "      <th>Salary</th>\n",
       "    </tr>\n",
       "  </thead>\n",
       "  <tbody>\n",
       "    <tr>\n",
       "      <th>Experience</th>\n",
       "      <td>1.000000</td>\n",
       "      <td>0.871582</td>\n",
       "    </tr>\n",
       "    <tr>\n",
       "      <th>Salary</th>\n",
       "      <td>0.871582</td>\n",
       "      <td>1.000000</td>\n",
       "    </tr>\n",
       "  </tbody>\n",
       "</table>\n",
       "</div>"
      ],
      "text/plain": [
       "            Experience    Salary\n",
       "Experience    1.000000  0.871582\n",
       "Salary        0.871582  1.000000"
      ]
     },
     "execution_count": 145,
     "metadata": {},
     "output_type": "execute_result"
    }
   ],
   "source": [
    "frame2.corr()"
   ]
  },
  {
   "cell_type": "code",
   "execution_count": 146,
   "id": "b1cdd69b-3e2b-4ee0-a07e-55285df31452",
   "metadata": {},
   "outputs": [
    {
     "data": {
      "text/html": [
       "<div>\n",
       "<style scoped>\n",
       "    .dataframe tbody tr th:only-of-type {\n",
       "        vertical-align: middle;\n",
       "    }\n",
       "\n",
       "    .dataframe tbody tr th {\n",
       "        vertical-align: top;\n",
       "    }\n",
       "\n",
       "    .dataframe thead th {\n",
       "        text-align: right;\n",
       "    }\n",
       "</style>\n",
       "<table border=\"1\" class=\"dataframe\">\n",
       "  <thead>\n",
       "    <tr style=\"text-align: right;\">\n",
       "      <th></th>\n",
       "      <th>Experience</th>\n",
       "      <th>Salary</th>\n",
       "    </tr>\n",
       "  </thead>\n",
       "  <tbody>\n",
       "    <tr>\n",
       "      <th>Experience</th>\n",
       "      <td>2.5</td>\n",
       "      <td>31750.0</td>\n",
       "    </tr>\n",
       "    <tr>\n",
       "      <th>Salary</th>\n",
       "      <td>31750.0</td>\n",
       "      <td>530800000.0</td>\n",
       "    </tr>\n",
       "  </tbody>\n",
       "</table>\n",
       "</div>"
      ],
      "text/plain": [
       "            Experience       Salary\n",
       "Experience         2.5      31750.0\n",
       "Salary         31750.0  530800000.0"
      ]
     },
     "execution_count": 146,
     "metadata": {},
     "output_type": "execute_result"
    }
   ],
   "source": [
    "frame2.cov()"
   ]
  },
  {
   "cell_type": "markdown",
   "id": "a3d884c9-4fb4-4be7-9c6b-f9ee870a0ddb",
   "metadata": {},
   "source": [
    "- #### Use .value_counts() to:\n",
    "\n",
    "#### Count the frequency of unique values in a categorical column (e.g., 'Department')."
   ]
  },
  {
   "cell_type": "code",
   "execution_count": 148,
   "id": "15c9efb3-cb1f-4e32-af79-2b30d8bcc546",
   "metadata": {},
   "outputs": [
    {
     "data": {
      "text/plain": [
       "array(['a', 'd', 'f', 'g'], dtype=object)"
      ]
     },
     "execution_count": 148,
     "metadata": {},
     "output_type": "execute_result"
    }
   ],
   "source": [
    "# Here im using customized series as the dataframe does not have any duplicates in column Department\n",
    "series = pd.Series([\"a\",\"a\",\"a\",\"d\",\"f\",\"g\",\"g\"])\n",
    "series.unique()"
   ]
  },
  {
   "cell_type": "code",
   "execution_count": null,
   "id": "05263445-e8ff-46a3-9585-719e42f2c91b",
   "metadata": {},
   "outputs": [],
   "source": []
  }
 ],
 "metadata": {
  "kernelspec": {
   "display_name": "ds_env",
   "language": "python",
   "name": "ds_env"
  },
  "language_info": {
   "codemirror_mode": {
    "name": "ipython",
    "version": 3
   },
   "file_extension": ".py",
   "mimetype": "text/x-python",
   "name": "python",
   "nbconvert_exporter": "python",
   "pygments_lexer": "ipython3",
   "version": "3.8.10"
  }
 },
 "nbformat": 4,
 "nbformat_minor": 5
}
